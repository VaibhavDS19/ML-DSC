{
  "nbformat": 4,
  "nbformat_minor": 0,
  "metadata": {
    "kernelspec": {
      "display_name": "Python 3",
      "language": "python",
      "name": "python3"
    },
    "language_info": {
      "codemirror_mode": {
        "name": "ipython",
        "version": 3
      },
      "file_extension": ".py",
      "mimetype": "text/x-python",
      "name": "python",
      "nbconvert_exporter": "python",
      "pygments_lexer": "ipython3",
      "version": "3.6.9"
    },
    "colab": {
      "name": "Pandas_assignment.ipynb",
      "provenance": [],
      "include_colab_link": true
    }
  },
  "cells": [
    {
      "cell_type": "markdown",
      "metadata": {
        "id": "view-in-github",
        "colab_type": "text"
      },
      "source": [
        "<a href=\"https://colab.research.google.com/github/VaibhavDS19/ML-DSC/blob/master/DataScience/Assignment4.ipynb\" target=\"_parent\"><img src=\"https://colab.research.google.com/assets/colab-badge.svg\" alt=\"Open In Colab\"/></a>"
      ]
    },
    {
      "cell_type": "markdown",
      "metadata": {
        "id": "ndCuPhfASjT4"
      },
      "source": [
        "# Pandas assignment\n",
        "- Different tasks will be detailed by comments or text.\n",
        "- It should be noted there may be more than one different way to answer a question or complete an exercise.\n",
        "- For further reference and resources, it's advised to check out the pandas documnetation."
      ]
    },
    {
      "cell_type": "code",
      "metadata": {
        "id": "KycwQxf8SjT6"
      },
      "source": [
        "# Import pandas\n",
        "import pandas as pd"
      ],
      "execution_count": null,
      "outputs": []
    },
    {
      "cell_type": "code",
      "metadata": {
        "id": "O5DHslCDSjUB"
      },
      "source": [
        "# Create a series of fruits(string) of length 5 and view it\n",
        "# Create a series of prices(int) of length 5 and view it\n"
      ],
      "execution_count": null,
      "outputs": []
    },
    {
      "cell_type": "code",
      "metadata": {
        "id": "UsKBgGGfSjUI"
      },
      "source": [
        "# Create a fruit_prices dataframe out of the 2 series you just made and view it\n"
      ],
      "execution_count": null,
      "outputs": []
    },
    {
      "cell_type": "code",
      "metadata": {
        "id": "kVaxqXd1SjUR"
      },
      "source": [
        "# Find the mean, sum, standard deviation, variance of the prices\n"
      ],
      "execution_count": null,
      "outputs": []
    },
    {
      "cell_type": "markdown",
      "metadata": {
        "id": "a2KsYtSRSjUX"
      },
      "source": [
        "### CSV - Cereal data\n",
        "- Download the csv file given to you and place it in the same directory as your notebook if you are using Jupyter notebooks.\n",
        "- If you are using Google colab mount the google drive to your colab notebook. Upload your csv file into any folder in your drive. Then do a right click on csv file and copy the file path and paste this path while importing this csv with Pandas"
      ]
    },
    {
      "cell_type": "code",
      "metadata": {
        "id": "KuBuK03BSjUZ"
      },
      "source": [
        "# import the csv file given to you and turn it into a DataFrame\n"
      ],
      "execution_count": null,
      "outputs": []
    },
    {
      "cell_type": "code",
      "metadata": {
        "id": "MvH7G7_-SjUg"
      },
      "source": [
        "# Find the different datatypes of the DataFrame\n"
      ],
      "execution_count": null,
      "outputs": []
    },
    {
      "cell_type": "code",
      "metadata": {
        "id": "y1_E_cpRSjUl"
      },
      "source": [
        "# Describe your current DataFrame using describe()\n"
      ],
      "execution_count": null,
      "outputs": []
    },
    {
      "cell_type": "code",
      "metadata": {
        "id": "lvpcJK9OSjUw"
      },
      "source": [
        "# Get information about your DataFrame using info()\n"
      ],
      "execution_count": null,
      "outputs": []
    },
    {
      "cell_type": "code",
      "metadata": {
        "id": "dREw7PZ-SjU3"
      },
      "source": [
        "# Find the length of the DataFrame\n"
      ],
      "execution_count": null,
      "outputs": []
    },
    {
      "cell_type": "code",
      "metadata": {
        "id": "bL3ydLwuSjU9"
      },
      "source": [
        "# Find the unique values in shelf column"
      ],
      "execution_count": null,
      "outputs": []
    },
    {
      "cell_type": "code",
      "metadata": {
        "id": "uG_CKZcpSjVC"
      },
      "source": [
        "# Show the first 7 rows of the DataFrame\n"
      ],
      "execution_count": null,
      "outputs": []
    },
    {
      "cell_type": "code",
      "metadata": {
        "id": "pi-oqk9RSjVH"
      },
      "source": [
        "# Show the last 7 rows of the DataFrame\n"
      ],
      "execution_count": null,
      "outputs": []
    },
    {
      "cell_type": "code",
      "metadata": {
        "id": "jLj_RCkESjVM"
      },
      "source": [
        "# Use .loc to find the sodium value of the 4th item\n"
      ],
      "execution_count": null,
      "outputs": []
    },
    {
      "cell_type": "code",
      "metadata": {
        "id": "BJ9rj9F3SjVR"
      },
      "source": [
        "# Use .iloc to find the value of the 7th row and 7th column\n"
      ],
      "execution_count": null,
      "outputs": []
    },
    {
      "cell_type": "code",
      "metadata": {
        "id": "CUxL39xTSjVW"
      },
      "source": [
        "# Select the \"name\" column from the DataFrame\n"
      ],
      "execution_count": null,
      "outputs": []
    },
    {
      "cell_type": "code",
      "metadata": {
        "id": "yaDI0CoLSjVc"
      },
      "source": [
        "# Select the rows which have more than 100 calories\n"
      ],
      "execution_count": null,
      "outputs": []
    },
    {
      "cell_type": "code",
      "metadata": {
        "id": "sDR-opdVSjVh"
      },
      "source": [
        "# Create a crosstab of the name and vitamins columns\n"
      ],
      "execution_count": null,
      "outputs": []
    },
    {
      "cell_type": "code",
      "metadata": {
        "id": "z-457M_ISjVm"
      },
      "source": [
        "# Group columns of the DataFrame by the manufacturer(mfr column) and find the average\n"
      ],
      "execution_count": null,
      "outputs": []
    },
    {
      "cell_type": "code",
      "metadata": {
        "id": "FQILQhCvSjVt"
      },
      "source": [
        "# Get rid of the decimal digits in ratings. #For example: 68.402973 -> 68\n"
      ],
      "execution_count": null,
      "outputs": []
    },
    {
      "cell_type": "code",
      "metadata": {
        "id": "H0CiyhaeSjV0"
      },
      "source": [
        "# Check for missing values in the dataframe\n"
      ],
      "execution_count": null,
      "outputs": []
    },
    {
      "cell_type": "code",
      "metadata": {
        "id": "qDCJZhPfSjV5"
      },
      "source": [
        "# Create a \"Safe for consumption\" column with boolean value True\n"
      ],
      "execution_count": null,
      "outputs": []
    },
    {
      "cell_type": "code",
      "metadata": {
        "id": "ihqJz8n0SjV_"
      },
      "source": [
        "# Remove the sugars column\n"
      ],
      "execution_count": null,
      "outputs": []
    },
    {
      "cell_type": "code",
      "metadata": {
        "id": "BcOdm4QbSjWE"
      },
      "source": [
        "# Shuffle the DataFrame using sample() with the frac parameter set to 1\n"
      ],
      "execution_count": null,
      "outputs": []
    },
    {
      "cell_type": "code",
      "metadata": {
        "id": "TnBtri48SjWI"
      },
      "source": [
        "# Save the the shuffled DataFrame to a new variable\n"
      ],
      "execution_count": null,
      "outputs": []
    }
  ]
}