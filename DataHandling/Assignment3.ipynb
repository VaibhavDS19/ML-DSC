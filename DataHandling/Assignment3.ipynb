{
  "nbformat": 4,
  "nbformat_minor": 0,
  "metadata": {
    "kernelspec": {
      "display_name": "Python 3",
      "language": "python",
      "name": "python3"
    },
    "language_info": {
      "codemirror_mode": {
        "name": "ipython",
        "version": 3
      },
      "file_extension": ".py",
      "mimetype": "text/x-python",
      "name": "python",
      "nbconvert_exporter": "python",
      "pygments_lexer": "ipython3",
      "version": "3.6.9"
    },
    "colab": {
      "name": "Numpy_Assignment.ipynb",
      "provenance": [],
      "include_colab_link": true
    }
  },
  "cells": [
    {
      "cell_type": "markdown",
      "metadata": {
        "id": "view-in-github",
        "colab_type": "text"
      },
      "source": [
        "<a href=\"https://colab.research.google.com/github/VaibhavDS19/ML-DSC/blob/master/DataHandling/Assignment3.ipynb\" target=\"_parent\"><img src=\"https://colab.research.google.com/assets/colab-badge.svg\" alt=\"Open In Colab\"/></a>"
      ]
    },
    {
      "cell_type": "markdown",
      "metadata": {
        "id": "yzILH3stLqkZ"
      },
      "source": [
        "# Numpy assignment\n",
        "- Different tasks will be detailed by comments or text.\n",
        "- For further reference and resources, it's advised to check out the NumPy documentation."
      ]
    },
    {
      "cell_type": "code",
      "metadata": {
        "id": "oko1QIEXLqkd"
      },
      "source": [
        "# Import NumPy as its abbreviation 'np'\n",
        "import numpy as np"
      ],
      "execution_count": 1,
      "outputs": []
    },
    {
      "cell_type": "code",
      "metadata": {
        "id": "EqlKn4TGLqkv"
      },
      "source": [
        "# Create a 1-dimensional NumPy array using np.array()\n",
        "a1 = np.array( [1,2,3,4,5] )\n",
        "# Create a 2-dimensional NumPy array using np.array()\n",
        "a2 = np.array( [ [1,2,3],[3,4,5] ] ) "
      ],
      "execution_count": 5,
      "outputs": []
    },
    {
      "cell_type": "code",
      "metadata": {
        "id": "yF0jkXSZLqk7",
        "outputId": "12b5d7fd-2d5a-4f84-8a48-a8fb486a259f",
        "colab": {
          "base_uri": "https://localhost:8080/",
          "height": 85
        }
      },
      "source": [
        "# Attributes of 1-dimensional array (shape, number of dimensions, data type, size and type)\n",
        "print( \"Shape: \",a1.shape )\n",
        "print(\"Number of dimensions: \", a1.ndim)\n",
        "print(\"Size: \", a1.size)\n",
        "print(\"Type: \", a1.dtype)"
      ],
      "execution_count": 12,
      "outputs": [
        {
          "output_type": "stream",
          "text": [
            "Shape:  (5,)\n",
            "Number of dimensions:  1\n",
            "Size:  5\n",
            "Type:  int64\n"
          ],
          "name": "stdout"
        }
      ]
    },
    {
      "cell_type": "code",
      "metadata": {
        "id": "MfmXqLpWLqlG",
        "outputId": "b0445146-662c-440b-8926-359ef87f0888",
        "colab": {
          "base_uri": "https://localhost:8080/",
          "height": 85
        }
      },
      "source": [
        "# Attributes of 2-dimensional array\n",
        "print( \"Shape: \",a2.shape )\n",
        "print(\"Number of dimensions: \", a2.ndim)\n",
        "print(\"Size: \", a2.size)\n",
        "print(\"Type: \", a2.dtype)"
      ],
      "execution_count": 13,
      "outputs": [
        {
          "output_type": "stream",
          "text": [
            "Shape:  (2, 3)\n",
            "Number of dimensions:  2\n",
            "Size:  6\n",
            "Type:  int64\n"
          ],
          "name": "stdout"
        }
      ]
    },
    {
      "cell_type": "code",
      "metadata": {
        "id": "QN8W0ZByLqlR",
        "outputId": "f34b9c6d-ac33-4a48-9c66-6965e34a597c",
        "colab": {
          "base_uri": "https://localhost:8080/",
          "height": 102
        }
      },
      "source": [
        "# Create an array of shape (5, 5) with only ones\n",
        "a3 = np.ones( (5,5), np.int64)\n",
        "a3"
      ],
      "execution_count": 23,
      "outputs": [
        {
          "output_type": "execute_result",
          "data": {
            "text/plain": [
              "array([[1, 1, 1, 1, 1],\n",
              "       [1, 1, 1, 1, 1],\n",
              "       [1, 1, 1, 1, 1],\n",
              "       [1, 1, 1, 1, 1],\n",
              "       [1, 1, 1, 1, 1]])"
            ]
          },
          "metadata": {
            "tags": []
          },
          "execution_count": 23
        }
      ]
    },
    {
      "cell_type": "code",
      "metadata": {
        "id": "nQ6IDW0iLqlb",
        "outputId": "5cf4bdd8-1cfc-409d-e2a0-b994652fc584",
        "colab": {
          "base_uri": "https://localhost:8080/",
          "height": 204
        }
      },
      "source": [
        "# Create an array of shape (3, 3, 5) with only zeros\n",
        "a4 = np.zeros( (3,3,5), np.int64)\n",
        "a4"
      ],
      "execution_count": 24,
      "outputs": [
        {
          "output_type": "execute_result",
          "data": {
            "text/plain": [
              "array([[[0, 0, 0, 0, 0],\n",
              "        [0, 0, 0, 0, 0],\n",
              "        [0, 0, 0, 0, 0]],\n",
              "\n",
              "       [[0, 0, 0, 0, 0],\n",
              "        [0, 0, 0, 0, 0],\n",
              "        [0, 0, 0, 0, 0]],\n",
              "\n",
              "       [[0, 0, 0, 0, 0],\n",
              "        [0, 0, 0, 0, 0],\n",
              "        [0, 0, 0, 0, 0]]])"
            ]
          },
          "metadata": {
            "tags": []
          },
          "execution_count": 24
        }
      ]
    },
    {
      "cell_type": "code",
      "metadata": {
        "id": "qmSgl1unLqlo",
        "outputId": "afcdf981-8b63-448c-dc04-c3eaa954b1dd",
        "colab": {
          "base_uri": "https://localhost:8080/",
          "height": 136
        }
      },
      "source": [
        "# Create a random array with numbers between 0 and 10 of size (7, 2)\n",
        "a5 = np.random.randint(0, 10, (7,2), np.int64 )\n",
        "a5"
      ],
      "execution_count": 25,
      "outputs": [
        {
          "output_type": "execute_result",
          "data": {
            "text/plain": [
              "array([[5, 4],\n",
              "       [7, 6],\n",
              "       [3, 3],\n",
              "       [2, 6],\n",
              "       [0, 6],\n",
              "       [8, 0],\n",
              "       [3, 1]])"
            ]
          },
          "metadata": {
            "tags": []
          },
          "execution_count": 25
        }
      ]
    },
    {
      "cell_type": "code",
      "metadata": {
        "id": "oS6odZt5Lql1",
        "outputId": "19a22e3d-1f86-4f21-fa9f-cb80881e99b1",
        "colab": {
          "base_uri": "https://localhost:8080/",
          "height": 68
        }
      },
      "source": [
        "# Create a random array of floats between 0 & 1 of shape (3, 5)\n",
        "a6 = np.random.rand( 3,5 )\n",
        "a6"
      ],
      "execution_count": 27,
      "outputs": [
        {
          "output_type": "execute_result",
          "data": {
            "text/plain": [
              "array([[0.17322465, 0.40512076, 0.10539308, 0.9027346 , 0.80337513],\n",
              "       [0.0194811 , 0.27549704, 0.06440652, 0.77042545, 0.42590259],\n",
              "       [0.48217174, 0.14923572, 0.07277687, 0.14639931, 0.36973917]])"
            ]
          },
          "metadata": {
            "tags": []
          },
          "execution_count": 27
        }
      ]
    },
    {
      "cell_type": "code",
      "metadata": {
        "id": "pNCBWqsyLql_",
        "outputId": "253d4905-2754-460a-e0eb-89c755b1a855",
        "colab": {
          "base_uri": "https://localhost:8080/",
          "height": 34
        }
      },
      "source": [
        "# Create an array of normally distributed random numbers\n",
        "a7 = np.random.randn(5)\n",
        "a7"
      ],
      "execution_count": 28,
      "outputs": [
        {
          "output_type": "execute_result",
          "data": {
            "text/plain": [
              "array([-0.10793039,  1.24929159,  0.77123828, -1.29294015,  0.7804747 ])"
            ]
          },
          "metadata": {
            "tags": []
          },
          "execution_count": 28
        }
      ]
    },
    {
      "cell_type": "code",
      "metadata": {
        "id": "BIWmKnliLqmI",
        "outputId": "9e8a3ffe-e0e0-4230-8f27-5df6cec615f5",
        "colab": {
          "base_uri": "https://localhost:8080/",
          "height": 153
        }
      },
      "source": [
        "# Set the random seed to 42\n",
        "np.random.seed(42)\n",
        "\n",
        "# Create a random array of numbers between 0 & 10 of size (4, 6)\n",
        "a8 = np.random.rand(4,6)\n",
        "a8"
      ],
      "execution_count": 34,
      "outputs": [
        {
          "output_type": "execute_result",
          "data": {
            "text/plain": [
              "array([[0.37454012, 0.95071431, 0.73199394, 0.59865848, 0.15601864,\n",
              "        0.15599452],\n",
              "       [0.05808361, 0.86617615, 0.60111501, 0.70807258, 0.02058449,\n",
              "        0.96990985],\n",
              "       [0.83244264, 0.21233911, 0.18182497, 0.18340451, 0.30424224,\n",
              "        0.52475643],\n",
              "       [0.43194502, 0.29122914, 0.61185289, 0.13949386, 0.29214465,\n",
              "        0.36636184]])"
            ]
          },
          "metadata": {
            "tags": []
          },
          "execution_count": 34
        }
      ]
    },
    {
      "cell_type": "code",
      "metadata": {
        "id": "jZdRTQtTLqmT",
        "outputId": "756d7935-2ff4-48b6-9dc0-77894317a789",
        "colab": {
          "base_uri": "https://localhost:8080/",
          "height": 153
        }
      },
      "source": [
        "# Copy the code from the cell above and run it again\n",
        "np.random.seed(42)\n",
        "a9 = np.random.rand(4,6)\n",
        "a9"
      ],
      "execution_count": 33,
      "outputs": [
        {
          "output_type": "execute_result",
          "data": {
            "text/plain": [
              "array([[0.37454012, 0.95071431, 0.73199394, 0.59865848, 0.15601864,\n",
              "        0.15599452],\n",
              "       [0.05808361, 0.86617615, 0.60111501, 0.70807258, 0.02058449,\n",
              "        0.96990985],\n",
              "       [0.83244264, 0.21233911, 0.18182497, 0.18340451, 0.30424224,\n",
              "        0.52475643],\n",
              "       [0.43194502, 0.29122914, 0.61185289, 0.13949386, 0.29214465,\n",
              "        0.36636184]])"
            ]
          },
          "metadata": {
            "tags": []
          },
          "execution_count": 33
        }
      ]
    },
    {
      "cell_type": "code",
      "metadata": {
        "id": "45RB_9C6Lqmb",
        "outputId": "daa81333-5ef5-46c7-9891-a9393e7d1929",
        "colab": {
          "base_uri": "https://localhost:8080/",
          "height": 34
        }
      },
      "source": [
        "# Find the 0'th index of the latest array you created\n",
        "print(a9[0][0])"
      ],
      "execution_count": 36,
      "outputs": [
        {
          "output_type": "stream",
          "text": [
            "0.3745401188473625\n"
          ],
          "name": "stdout"
        }
      ]
    },
    {
      "cell_type": "code",
      "metadata": {
        "id": "n_hi2P1nLqmk",
        "outputId": "34faca3f-38f6-499f-80a1-0b2e2386fc00",
        "colab": {
          "base_uri": "https://localhost:8080/",
          "height": 51
        }
      },
      "source": [
        "# Get the first 2 rows of latest array you created\n",
        "r1 = a9[0]\n",
        "r2 = a9[1]\n",
        "print( r1,\"\\n\", r2 )"
      ],
      "execution_count": 41,
      "outputs": [
        {
          "output_type": "stream",
          "text": [
            "[0.37454012 0.95071431 0.73199394 0.59865848 0.15601864 0.15599452] \n",
            " [0.05808361 0.86617615 0.60111501 0.70807258 0.02058449 0.96990985]\n"
          ],
          "name": "stdout"
        }
      ]
    },
    {
      "cell_type": "code",
      "metadata": {
        "id": "wirfw9hFLqmr",
        "outputId": "290f9a0a-ec14-4509-9396-6769044f4af2",
        "colab": {
          "base_uri": "https://localhost:8080/",
          "height": 51
        }
      },
      "source": [
        "# Get the first 2 values of the first 2 rows of the latest array\n",
        "r1v1 = r1[0]\n",
        "r2v1 = r2[0]\n",
        "print(r1v1,\"\\n\",r2v1)"
      ],
      "execution_count": 44,
      "outputs": [
        {
          "output_type": "stream",
          "text": [
            "0.3745401188473625 \n",
            " 0.05808361216819946\n"
          ],
          "name": "stdout"
        }
      ]
    },
    {
      "cell_type": "code",
      "metadata": {
        "id": "rGbiLVgDLqm0"
      },
      "source": [
        "# Create a random array of numbers between 0 & 10 and an array of ones both of size (3, 5), save them both to variables\n"
      ],
      "execution_count": null,
      "outputs": []
    },
    {
      "cell_type": "code",
      "metadata": {
        "id": "8m0DQryPLqm9"
      },
      "source": [
        "# Add the two arrays together\n"
      ],
      "execution_count": null,
      "outputs": []
    },
    {
      "cell_type": "code",
      "metadata": {
        "id": "-FclFEQuLqnF"
      },
      "source": [
        "# Create another array of ones of shape (5, 3)\n"
      ],
      "execution_count": null,
      "outputs": []
    },
    {
      "cell_type": "code",
      "metadata": {
        "id": "RmFr9MNNLqnP"
      },
      "source": [
        "# Try add the array of ones and the other most recent array together # You can anticipate an error\n"
      ],
      "execution_count": null,
      "outputs": []
    },
    {
      "cell_type": "code",
      "metadata": {
        "id": "eCIOOOTPLqnX"
      },
      "source": [
        "# Do the same operation you just did but this time with a transpose on one array\n"
      ],
      "execution_count": null,
      "outputs": []
    },
    {
      "cell_type": "code",
      "metadata": {
        "id": "P1K-ahBLLqne"
      },
      "source": [
        "# Take the latest array to the power of 2 using the python way\n"
      ],
      "execution_count": null,
      "outputs": []
    },
    {
      "cell_type": "code",
      "metadata": {
        "id": "QAdyhw_FLqns"
      },
      "source": [
        "# Do the same thing with numpy way\n"
      ],
      "execution_count": null,
      "outputs": []
    },
    {
      "cell_type": "code",
      "metadata": {
        "id": "QKW6NbTnLqnz"
      },
      "source": [
        "# Find the mean, min, max, standard deviation, variance of the latest array using np.mean()\n"
      ],
      "execution_count": null,
      "outputs": []
    },
    {
      "cell_type": "code",
      "metadata": {
        "id": "m0tOTuiILqn8"
      },
      "source": [
        "# Create two arrays of random integers between 0 to 10 one of size (3, 3) the other of size (3, 2)\n"
      ],
      "execution_count": null,
      "outputs": []
    },
    {
      "cell_type": "code",
      "metadata": {
        "id": "UJBQRTubLqoF"
      },
      "source": [
        "# Perform a dot product on the two newest arrays you created\n"
      ],
      "execution_count": null,
      "outputs": []
    },
    {
      "cell_type": "code",
      "metadata": {
        "id": "kwiN1fILLqoP"
      },
      "source": [
        "# Create two arrays of random integers between 0 to 10 both of size (4, 3)\n"
      ],
      "execution_count": null,
      "outputs": []
    },
    {
      "cell_type": "code",
      "metadata": {
        "id": "5FjvY2QULqoZ"
      },
      "source": [
        "# Perform a hadamard product on the two newest arrays you created\n"
      ],
      "execution_count": null,
      "outputs": []
    },
    {
      "cell_type": "code",
      "metadata": {
        "id": "qjuHCS6zLqoj"
      },
      "source": [
        "# Perform a dot product on the two newest arrays you created # Error anticipated\n"
      ],
      "execution_count": null,
      "outputs": []
    },
    {
      "cell_type": "code",
      "metadata": {
        "id": "DiVFc5PtLqou"
      },
      "source": [
        "# Take the latest two arrays, perform a transpose on one of them and then perform a dot product on them both\n"
      ],
      "execution_count": null,
      "outputs": []
    },
    {
      "cell_type": "code",
      "metadata": {
        "id": "6CwrRrXVLqoz"
      },
      "source": [
        "# Create two arrays of random integers between 0 & 10 of the same shape and save them to variables\n"
      ],
      "execution_count": null,
      "outputs": []
    },
    {
      "cell_type": "code",
      "metadata": {
        "id": "a9dT2AuhLqo5"
      },
      "source": [
        "# Compare the two arrays with '>', '<=' and '==' \n"
      ],
      "execution_count": null,
      "outputs": []
    },
    {
      "cell_type": "code",
      "metadata": {
        "id": "Ia8FG4dVLqpC"
      },
      "source": [
        "# Sort one of the arrays you just created in ascending order\n"
      ],
      "execution_count": null,
      "outputs": []
    },
    {
      "cell_type": "code",
      "metadata": {
        "id": "HtDp8M43LqpL"
      },
      "source": [
        "# Sort the indexes of one of the arrays you just created\n"
      ],
      "execution_count": null,
      "outputs": []
    },
    {
      "cell_type": "code",
      "metadata": {
        "id": "C7wSG6b_LqpU"
      },
      "source": [
        "# Find the index with the maximum value in one of the arrays you've created\n"
      ],
      "execution_count": null,
      "outputs": []
    },
    {
      "cell_type": "code",
      "metadata": {
        "id": "m19A6p54Lqpd"
      },
      "source": [
        "# Create an array with 10 evenly spaced numbers between 1 and 100\n"
      ],
      "execution_count": null,
      "outputs": []
    },
    {
      "cell_type": "code",
      "metadata": {
        "id": "lG2TKl7YLqpk"
      },
      "source": [
        "# Find the indexes with the maximum values down the verticial axis of one of the arrays you created\n"
      ],
      "execution_count": null,
      "outputs": []
    },
    {
      "cell_type": "code",
      "metadata": {
        "id": "vJUAn5fBLqpu"
      },
      "source": [
        "# Find the indexes with the minimum values across the horizontal axis of one of the arrays you created\n"
      ],
      "execution_count": null,
      "outputs": []
    }
  ]
}